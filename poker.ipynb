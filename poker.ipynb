{
 "cells": [
  {
   "cell_type": "code",
   "execution_count": 2,
   "metadata": {},
   "outputs": [],
   "source": [
    "import numpy as np\n",
    "from itertools import combinations\n",
    "from collections import Counter"
   ]
  },
  {
   "cell_type": "markdown",
   "metadata": {},
   "source": [
    "#### Descrição do problema\n",
    "\n",
    "Dada uma rodada $R$ do Poker Texas Hold'em, sua mão $M$ é composta por duas cartas $C_1$ e $C_2$. Qual a probabilidade aproximada de você perder?"
   ]
  },
  {
   "cell_type": "markdown",
   "metadata": {},
   "source": [
    "### Criando as Classes Carta e Jogador"
   ]
  },
  {
   "cell_type": "code",
   "execution_count": 3,
   "metadata": {},
   "outputs": [],
   "source": [
    "class Carta:\n",
    "    VALORES = [\"A\", \"2\", \"3\", \"4\", \"5\", \"6\", \"7\", \"8\", \"9\", \"10\", \"J\", \"Q\", \"K\"]\n",
    "    NAIPES = [\"Copas\", \"Ouros\", \"Espadas\", \"Paus\"]\n",
    "\n",
    "    def __init__(self, valor, naipe):\n",
    "        if valor in Carta.VALORES:\n",
    "            self.valor = valor\n",
    "        else:\n",
    "            raise ValueError(f\"Valor inválido: {valor}\")\n",
    "        \n",
    "        if naipe in Carta.NAIPES:\n",
    "            self.naipe = naipe\n",
    "        else:\n",
    "            raise ValueError(f\"Naipe inválido: {naipe}\")\n",
    "    \n",
    "    def __str__(self):\n",
    "        return f\"{self.valor} de {self.naipe}\"\n",
    "    \n",
    "class Jogador:\n",
    "    def __init__(self, nome, carta1, carta2):\n",
    "        self.nome = nome\n",
    "        self.carta1 = carta1\n",
    "        self.carta2 = carta2\n",
    "\n",
    "    def __str__(self):\n",
    "        return f\"Jogador {self.nome} com cartas: {self.carta1} e {self.carta2}\"\n"
   ]
  },
  {
   "cell_type": "markdown",
   "metadata": {},
   "source": [
    "### Variáveis, listas e dicionários auxiliares"
   ]
  },
  {
   "cell_type": "code",
   "execution_count": 4,
   "metadata": {},
   "outputs": [],
   "source": [
    "valor_map = {\n",
    "        \"2\": 2,\n",
    "        \"3\": 3,\n",
    "        \"4\": 4,\n",
    "        \"5\": 5,\n",
    "        \"6\": 6,\n",
    "        \"7\": 7,\n",
    "        \"8\": 8,\n",
    "        \"9\": 9,\n",
    "        \"10\": 10,\n",
    "        \"J\": 11,\n",
    "        \"Q\": 12,\n",
    "        \"K\": 13,\n",
    "        \"A\": 14  # Considerando o Ás como o maior valor\n",
    "        }\n",
    "\n",
    "hand_map = [\n",
    "    'royal_flush',      # sequencia maior de mesmo naipe\n",
    "    'straight_flush',   # sequencia do mesmo naipe\n",
    "    'foak',             # quadra\n",
    "    'full_house',       # trinca e dupla\n",
    "    'flush',            # mesmo naipe\n",
    "    'straight',         # sequencia\n",
    "    'toak',             # trinca \n",
    "    'two_pair',         # dois pares\n",
    "    'pair',             # um par\n",
    "    'highest'           # maior carta\n",
    "]\n",
    "\n",
    "valores_array = [\"A\", \"2\", \"3\", \"4\", \"5\", \"6\", \"7\", \"8\", \"9\", \"10\", \"J\", \"Q\", \"K\"]\n",
    "naipes_array = [\"Copas\", \"Ouros\", \"Espadas\", \"Paus\"]\n",
    "naipe_map = {\"Copas\":0, \"Ouros\":1, \"Espadas\":2, \"Paus\":3}\n",
    "valores_map = {\"A\":0, \"2\":1, \"3\":2, \"4\":3, \"5\":4, \"6\":5, \"7\":6, \"8\":7, \"9\":8, \"10\":9, \"J\":10, \"Q\":11, \"K\":12}"
   ]
  },
  {
   "cell_type": "markdown",
   "metadata": {},
   "source": [
    "### Funções de Combinações de 5 cartas\n",
    "Dada 5 cartas, a função $f$ recebe as cartas e devolve, caso as cinco cartas formem a combinação, um valor entre $2$ e $14$ que corresponde ao valor da maior carta, ou devolve 0 caso contrário. O caso do Royal Flush é uma execeção, uma vez que é a melhor combinação, e, por isso, devolve $True$ ou $False$"
   ]
  },
  {
   "cell_type": "code",
   "execution_count": 5,
   "metadata": {},
   "outputs": [],
   "source": [
    "\n",
    "def royal_flush(carta1,carta2,carta3,carta4,carta5):\n",
    "    royal = {'A', 'J', 'Q', 'K', '10'}\n",
    "    if (carta1.naipe == carta2.naipe == carta3.naipe == carta4.naipe == carta5.naipe):\n",
    "        valores_cartas = {carta1.valor, carta2.valor, carta3.valor, carta4.valor, carta5.valor}\n",
    "        return valores_cartas == royal\n",
    "    return False\n",
    "\n",
    "def straight_flush(carta1,carta2,carta3,carta4,carta5):\n",
    "    if (carta1.naipe == carta2.naipe == carta3.naipe == carta4.naipe == carta5.naipe):\n",
    "        cartas = [carta1,carta2,carta3,carta4,carta5]\n",
    "        valores = [valor_map[carta.valor] for carta in cartas]\n",
    "        valores.sort()\n",
    "        for i in range(4):\n",
    "            if valores[i] + 1 != valores[i + 1]:\n",
    "                return 0\n",
    "        return valores[-1]\n",
    "    return 0\n",
    "\n",
    "def foak(carta1,carta2,carta3,carta4,carta5):\n",
    "    four = Counter([carta1.valor, carta2.valor, carta3.valor, carta4.valor, carta5.valor])\n",
    "    return 4 in four.values()\n",
    "\n",
    "def full_house(carta1,carta2,carta3,carta4,carta5):\n",
    "    counter = Counter([carta1.valor, carta2.valor, carta3.valor, carta4.valor, carta5.valor])\n",
    "    count_freq = Counter(counter.values())\n",
    "    if count_freq.get(3, 0) == 1 and count_freq.get(2, 0) == 1:\n",
    "        three = max(counter, key=counter.get)\n",
    "        return valor_map[three]\n",
    "    return 0\n",
    "\n",
    "def flush(carta1,carta2,carta3,carta4,carta5):\n",
    "    if (carta1.naipe == carta2.naipe == carta3.naipe == carta4.naipe == carta5.naipe):\n",
    "        cartas = [carta1,carta2,carta3,carta4,carta5]\n",
    "        valores = [valor_map[carta.valor] for carta in cartas]\n",
    "        valores.sort()\n",
    "        return valores[-1]\n",
    "    return 0\n",
    "\n",
    "def straight(carta1,carta2,carta3,carta4,carta5):\n",
    "    if (carta1.naipe == carta2.naipe == carta3.naipe == carta4.naipe == carta5.naipe):\n",
    "        return 0\n",
    "    cartas = [carta1,carta2,carta3,carta4,carta5]\n",
    "    valores = [valor_map[carta.valor] for carta in cartas]\n",
    "    valores.sort()\n",
    "    for i in range(4):\n",
    "        if valores[i] + 1 != valores[i + 1]:\n",
    "            return 0\n",
    "    return valores[-1]\n",
    "\n",
    "def toak(carta1,carta2,carta3,carta4,carta5):\n",
    "    four = Counter([carta1.valor, carta2.valor, carta3.valor, carta4.valor, carta5.valor])\n",
    "    return 3 in four.values()\n",
    "\n",
    "def two_pair(carta1,carta2,carta3,carta4,carta5):\n",
    "    counter = Counter([carta1.valor, carta2.valor, carta3.valor, carta4.valor, carta5.valor])\n",
    "    count_freq = Counter(counter.values())\n",
    "    if count_freq.get(2, 0) == 2:\n",
    "        for key in list(counter.keys()):\n",
    "            if counter[key] == 1:\n",
    "                del counter[key]\n",
    "        valores = [valor_map[carta] for carta in list(counter.keys())]\n",
    "        valores.sort()\n",
    "        return valores[-1]\n",
    "    return 0\n",
    "def pair(carta1,carta2,carta3,carta4,carta5):\n",
    "    counter = Counter([carta1.valor, carta2.valor, carta3.valor, carta4.valor, carta5.valor])\n",
    "    count_freq = Counter(counter.values())\n",
    "    if count_freq.get(2,0) == 1 and count_freq.get(3,0) != 1:\n",
    "        pair = max(counter, key=counter.get)\n",
    "        return valor_map[pair]\n",
    "    return 0\n",
    "\n",
    "def highest(carta1,carta2,carta3,carta4,carta5):\n",
    "    cartas = [carta1,carta2,carta3,carta4,carta5]\n",
    "    valores = [valor_map[carta.valor] for carta in cartas]\n",
    "    valores.sort()\n",
    "    return valores[-1]"
   ]
  },
  {
   "cell_type": "markdown",
   "metadata": {},
   "source": [
    "### Best Hand\n",
    "Dada uma certa rodada, as cartas compartilhadas podem ter diversos tamanhos: podem ter nenhuma carta na mesa (Pré-Flop), 3 cartas (Flop), 4 cartas (Turn) ou 5 cartas (River). <br>\n",
    "Nas últimas três opções, a função `best_hand` recebe as duas cartas da sua mão, na variável `mao` e as cartas compartilhadas, independentemente se está no flop, turn, ou river, e devolve um número `best_index` e `best_point`, que podem ser usadas para saber qual é a melhor combinação que as cartas compoem, juntamente com a maior carta"
   ]
  },
  {
   "cell_type": "code",
   "execution_count": 6,
   "metadata": {},
   "outputs": [],
   "source": [
    "def best_hand(mao, river):\n",
    "    conj = mao + river\n",
    "    subsets = list(combinations(conj, 5))\n",
    "    best_index = 10\n",
    "    best_point = 0\n",
    "    for five in subsets:\n",
    "        possible_hands = [royal_flush(five[0],five[1],five[2],five[3],five[4]),\n",
    "                        straight_flush(five[0],five[1],five[2],five[3],five[4]),\n",
    "                        foak(five[0],five[1],five[2],five[3],five[4]),\n",
    "                        full_house(five[0],five[1],five[2],five[3],five[4]),\n",
    "                        flush(five[0],five[1],five[2],five[3],five[4]),\n",
    "                        straight(five[0],five[1],five[2],five[3],five[4]),\n",
    "                        toak(five[0],five[1],five[2],five[3],five[4]),\n",
    "                        two_pair(five[0],five[1],five[2],five[3],five[4]),\n",
    "                        pair(five[0],five[1],five[2],five[3],five[4]),\n",
    "                        highest(five[0],five[1],five[2],five[3],five[4])]\n",
    "        for index, hand in enumerate(possible_hands):\n",
    "            if hand and index <= best_index:\n",
    "                \n",
    "                best_point = hand\n",
    "                best_index = index\n",
    "                continue\n",
    "    return best_index, best_point\n"
   ]
  },
  {
   "cell_type": "markdown",
   "metadata": {},
   "source": [
    "### Teste 1:\n",
    "Recebi um par de Ás e o flop é 4 de Ouros, 2 de Copas, e 6 de Copas.\n",
    "A função `best_hand` devolveu `'pair'`, com pontuação `14`, isto é, um par de Ás."
   ]
  },
  {
   "cell_type": "code",
   "execution_count": 7,
   "metadata": {},
   "outputs": [
    {
     "name": "stdout",
     "output_type": "stream",
     "text": [
      "pair 14\n"
     ]
    }
   ],
   "source": [
    "carta1 = Carta(\"A\", \"Copas\")\n",
    "carta2 = Carta(\"A\", \"Ouros\")\n",
    "carta3 = Carta(\"4\", \"Ouros\")\n",
    "carta4 = Carta(\"2\", \"Copas\")\n",
    "carta5 = Carta(\"6\", \"Copas\")\n",
    "#carta6 = Carta(\"4\", \"Ouros\")\n",
    "#carta7 = Carta(\"2\", \"Espadas\")\n",
    "\n",
    "mao = [carta1, carta2]\n",
    "turn = [carta3, carta4, carta5]\n",
    "best_index, point = best_hand(mao, turn)\n",
    "print(hand_map[best_index], point)"
   ]
  },
  {
   "cell_type": "markdown",
   "metadata": {},
   "source": [
    "Para as próximas funções, será necessário montar o baralho completo, para conseguir os possíveis pares dos inimigos:"
   ]
  },
  {
   "cell_type": "code",
   "execution_count": 8,
   "metadata": {},
   "outputs": [],
   "source": [
    "deck = [] # matriz de carta naipe x valor\n",
    "\n",
    "valores_array = [\"A\", \"2\", \"3\", \"4\", \"5\", \"6\", \"7\", \"8\", \"9\", \"10\", \"J\", \"Q\", \"K\"]\n",
    "naipes_array = [\"Copas\", \"Ouros\", \"Espadas\", \"Paus\"]\n",
    "naipe_map = {\"Copas\":0, \"Ouros\":1, \"Espadas\":2, \"Paus\":3}\n",
    "valores_map = {\"A\":0, \"2\":1, \"3\":2, \"4\":3, \"5\":4, \"6\":5, \"7\":6, \"8\":7, \"9\":8, \"10\":9, \"J\":10, \"Q\":11, \"K\":12}\n",
    "\n",
    "for naipe in naipes_array:\n",
    "    n = []\n",
    "    for val in valores_array:\n",
    "        n.append(Carta(val, naipe))\n",
    "    deck.append(n)\n",
    "\n",
    "\n"
   ]
  },
  {
   "cell_type": "markdown",
   "metadata": {},
   "source": [
    "### a função all_pairs_possible\n",
    "Esta função pega um baralho modificado, na variável `deck_op`, e monta todos os possíveis pares entre as cartas"
   ]
  },
  {
   "cell_type": "code",
   "execution_count": 9,
   "metadata": {},
   "outputs": [],
   "source": [
    "def all_pairs_possible(deck_op):\n",
    "    all_elements = [element for row in deck_op for element in row if element != 0]\n",
    "\n",
    "    # Generate all possible pairs using combinations\n",
    "    pairs = list(combinations(all_elements, 2))\n",
    "    \n",
    "    return pairs"
   ]
  },
  {
   "cell_type": "markdown",
   "metadata": {},
   "source": [
    "### Probabilidade de algum jogador vencer:\n",
    "Esta função recebe sua mão `your_hand`, sua melhor combinação `best_hand_index` e `best_point` e o `flop`.\n",
    "Devolve a probabilidade: \n",
    "$$P_{perder}=\\frac{\\text{Pares Vencedores}}{\\text{Todos os pares possíveis}}=\\sum{\\frac{\\text{Par Vencedor}}{\\binom{52-2-3}{2}}}$$"
   ]
  },
  {
   "cell_type": "code",
   "execution_count": 10,
   "metadata": {},
   "outputs": [],
   "source": [
    "def prob_of_opponent_winning_flop(your_hand, best_hand_index,best_point, flop): # len(flop) = 3\n",
    "    #print('Sua mão é um',your_hand[0].valor,'de',your_hand[0].naipe,'e um',your_hand[1].valor,'de',your_hand[1].naipe)\n",
    "    #print('Sua melhor mão é um', hand_map[best_index], 'com pontuação', best_point, 'com index', best_hand_index)\n",
    "    round = len(flop)\n",
    "    winning_count = 0\n",
    "\n",
    "    deck_op = deck\n",
    "\n",
    "    for card in your_hand:\n",
    "        naipe = card.naipe\n",
    "        val = card.valor\n",
    "        print()\n",
    "        deck_op[naipe_map[naipe]][valores_map[val]] = 0\n",
    "\n",
    "    for card in flop:\n",
    "        naipe = card.naipe\n",
    "        val = card.valor\n",
    "\n",
    "        deck_op[naipe_map[naipe]][valores_map[val]] = 0\n",
    "\n",
    "    pairs = all_pairs_possible(deck_op)\n",
    "    print(np.array(pairs).shape)\n",
    "    for par in pairs:\n",
    "        #print(par[0].valor,'de', par[0].naipe, 'junto com',par[1].valor,'de', par[1].naipe)\n",
    "        five= flop + list(par)\n",
    "        \n",
    "        #subsets = list(combinations(conj, 5))\n",
    "        possible_hands = [royal_flush(five[0],five[1],five[2],five[3],five[4]),\n",
    "                            straight_flush(five[0],five[1],five[2],five[3],five[4]),\n",
    "                            foak(five[0],five[1],five[2],five[3],five[4]),\n",
    "                            full_house(five[0],five[1],five[2],five[3],five[4]),\n",
    "                            flush(five[0],five[1],five[2],five[3],five[4]),\n",
    "                            straight(five[0],five[1],five[2],five[3],five[4]),\n",
    "                            toak(five[0],five[1],five[2],five[3],five[4]),\n",
    "                            two_pair(five[0],five[1],five[2],five[3],five[4]),\n",
    "                            pair(five[0],five[1],five[2],five[3],five[4]),\n",
    "                            highest(five[0],five[1],five[2],five[3],five[4])]\n",
    "        for i in range(best_hand_index+1):\n",
    "            if (possible_hands[i] > best_point and i == best_hand_index) or (i < best_hand_index and possible_hands[i] > 0):\n",
    "                winning_count += 1\n",
    "                break\n",
    "            \n",
    "    all = int((52 - 2 - round) * (52 - 3 - round)/2)\n",
    "    return winning_count/all\n",
    "\n",
    "        \n",
    "                    "
   ]
  },
  {
   "cell_type": "code",
   "execution_count": 11,
   "metadata": {},
   "outputs": [
    {
     "name": "stdout",
     "output_type": "stream",
     "text": [
      "\n",
      "\n",
      "(1081, 2)\n",
      "0.04810360777058279\n"
     ]
    }
   ],
   "source": [
    "p = prob_of_opponent_winning_flop(mao, best_index, point, turn)\n",
    "print(p)"
   ]
  }
 ],
 "metadata": {
  "kernelspec": {
   "display_name": "Python 3",
   "language": "python",
   "name": "python3"
  },
  "language_info": {
   "codemirror_mode": {
    "name": "ipython",
    "version": 3
   },
   "file_extension": ".py",
   "mimetype": "text/x-python",
   "name": "python",
   "nbconvert_exporter": "python",
   "pygments_lexer": "ipython3",
   "version": "3.11.9"
  }
 },
 "nbformat": 4,
 "nbformat_minor": 2
}
